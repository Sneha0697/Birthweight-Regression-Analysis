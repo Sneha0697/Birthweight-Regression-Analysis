{
 "cells": [
  {
   "cell_type": "markdown",
   "id": "89ff5754",
   "metadata": {},
   "source": [
    "<hr style=\"height:.9px;border:none;color:#333;background-color:#333;\" />\n",
    "<hr style=\"height:.9px;border:none;color:#333;background-color:#333;\" />\n",
    "\n",
    "Regression Model | Birthweight</h2>\n",
    "\n",
    "Sneha Ramu - MBAN\n",
    "\n",
    "\n",
    "<hr style=\"height:.9px;border:none;color:#333;background-color:#333;\" />\n",
    "<hr style=\"height:.9px;border:none;color:#333;background-color:#333;\" />"
   ]
  },
  {
   "cell_type": "markdown",
   "id": "61ec47e7",
   "metadata": {},
   "source": [
    "<h2>Data Preparation</h2><br>\n",
    "<h3>Import library and Read the file</h3><br>"
   ]
  },
  {
   "cell_type": "code",
   "execution_count": 4,
   "id": "1876cfd7",
   "metadata": {},
   "outputs": [],
   "source": [
    "# import libraries\n",
    "import numpy as np                                         # mathematical essentials\n",
    "import matplotlib.pyplot as plt                            # essential graphical output\n",
    "import pandas as pd                                        # data science essentials\n",
    "import seaborn as sns                                      # enhanced graphical essentials\n",
    "import sklearn.linear_model                                # linear model                               \n",
    "import statsmodels.formula.api as smf                      # regression modelling\n",
    "\n",
    "from sklearn.linear_model    import LinearRegression       # linear regression (scikit-learn)\n",
    "from sklearn.model_selection import train_test_split       # train_test split\n",
    "from sklearn.neighbors       import KNeighborsRegressor    # KNN for regression\n",
    "from sklearn.preprocessing   import StandardScaler         # standard scalar"
   ]
  },
  {
   "cell_type": "markdown",
   "id": "47d99318",
   "metadata": {},
   "source": [
    "a) Print first five rows of the data"
   ]
  },
  {
   "cell_type": "code",
   "execution_count": 5,
   "id": "7ea320d6",
   "metadata": {},
   "outputs": [
    {
     "data": {
      "text/html": [
       "<div>\n",
       "<style scoped>\n",
       "    .dataframe tbody tr th:only-of-type {\n",
       "        vertical-align: middle;\n",
       "    }\n",
       "\n",
       "    .dataframe tbody tr th {\n",
       "        vertical-align: top;\n",
       "    }\n",
       "\n",
       "    .dataframe thead th {\n",
       "        text-align: right;\n",
       "    }\n",
       "</style>\n",
       "<table border=\"1\" class=\"dataframe\">\n",
       "  <thead>\n",
       "    <tr style=\"text-align: right;\">\n",
       "      <th></th>\n",
       "      <th>mage</th>\n",
       "      <th>meduc</th>\n",
       "      <th>monpre</th>\n",
       "      <th>npvis</th>\n",
       "      <th>fage</th>\n",
       "      <th>feduc</th>\n",
       "      <th>omaps</th>\n",
       "      <th>fmaps</th>\n",
       "      <th>cigs</th>\n",
       "      <th>drink</th>\n",
       "      <th>male</th>\n",
       "      <th>mwhte</th>\n",
       "      <th>mblck</th>\n",
       "      <th>moth</th>\n",
       "      <th>fwhte</th>\n",
       "      <th>fblck</th>\n",
       "      <th>foth</th>\n",
       "      <th>bwght</th>\n",
       "    </tr>\n",
       "  </thead>\n",
       "  <tbody>\n",
       "    <tr>\n",
       "      <th>0</th>\n",
       "      <td>69</td>\n",
       "      <td>NaN</td>\n",
       "      <td>5</td>\n",
       "      <td>2.0</td>\n",
       "      <td>62</td>\n",
       "      <td>NaN</td>\n",
       "      <td>4</td>\n",
       "      <td>7</td>\n",
       "      <td>23</td>\n",
       "      <td>9</td>\n",
       "      <td>1</td>\n",
       "      <td>0</td>\n",
       "      <td>1</td>\n",
       "      <td>0</td>\n",
       "      <td>0</td>\n",
       "      <td>1</td>\n",
       "      <td>0</td>\n",
       "      <td>697</td>\n",
       "    </tr>\n",
       "    <tr>\n",
       "      <th>1</th>\n",
       "      <td>68</td>\n",
       "      <td>12.0</td>\n",
       "      <td>3</td>\n",
       "      <td>10.0</td>\n",
       "      <td>61</td>\n",
       "      <td>11.0</td>\n",
       "      <td>4</td>\n",
       "      <td>6</td>\n",
       "      <td>25</td>\n",
       "      <td>11</td>\n",
       "      <td>1</td>\n",
       "      <td>1</td>\n",
       "      <td>0</td>\n",
       "      <td>0</td>\n",
       "      <td>1</td>\n",
       "      <td>0</td>\n",
       "      <td>0</td>\n",
       "      <td>1290</td>\n",
       "    </tr>\n",
       "    <tr>\n",
       "      <th>2</th>\n",
       "      <td>71</td>\n",
       "      <td>12.0</td>\n",
       "      <td>3</td>\n",
       "      <td>6.0</td>\n",
       "      <td>46</td>\n",
       "      <td>12.0</td>\n",
       "      <td>2</td>\n",
       "      <td>7</td>\n",
       "      <td>21</td>\n",
       "      <td>12</td>\n",
       "      <td>1</td>\n",
       "      <td>0</td>\n",
       "      <td>1</td>\n",
       "      <td>0</td>\n",
       "      <td>0</td>\n",
       "      <td>1</td>\n",
       "      <td>0</td>\n",
       "      <td>1490</td>\n",
       "    </tr>\n",
       "    <tr>\n",
       "      <th>3</th>\n",
       "      <td>59</td>\n",
       "      <td>16.0</td>\n",
       "      <td>1</td>\n",
       "      <td>8.0</td>\n",
       "      <td>48</td>\n",
       "      <td>16.0</td>\n",
       "      <td>7</td>\n",
       "      <td>8</td>\n",
       "      <td>21</td>\n",
       "      <td>10</td>\n",
       "      <td>0</td>\n",
       "      <td>0</td>\n",
       "      <td>0</td>\n",
       "      <td>1</td>\n",
       "      <td>0</td>\n",
       "      <td>0</td>\n",
       "      <td>1</td>\n",
       "      <td>1720</td>\n",
       "    </tr>\n",
       "    <tr>\n",
       "      <th>4</th>\n",
       "      <td>48</td>\n",
       "      <td>12.0</td>\n",
       "      <td>4</td>\n",
       "      <td>6.0</td>\n",
       "      <td>39</td>\n",
       "      <td>12.0</td>\n",
       "      <td>2</td>\n",
       "      <td>9</td>\n",
       "      <td>17</td>\n",
       "      <td>13</td>\n",
       "      <td>0</td>\n",
       "      <td>1</td>\n",
       "      <td>0</td>\n",
       "      <td>0</td>\n",
       "      <td>1</td>\n",
       "      <td>0</td>\n",
       "      <td>0</td>\n",
       "      <td>1956</td>\n",
       "    </tr>\n",
       "  </tbody>\n",
       "</table>\n",
       "</div>"
      ],
      "text/plain": [
       "   mage  meduc  monpre  npvis  fage  feduc  omaps  fmaps  cigs  drink  male  mwhte  mblck  moth  fwhte  fblck  foth  bwght\n",
       "0    69    NaN       5    2.0    62    NaN      4      7    23      9     1      0      1     0      0      1     0    697\n",
       "1    68   12.0       3   10.0    61   11.0      4      6    25     11     1      1      0     0      1      0     0   1290\n",
       "2    71   12.0       3    6.0    46   12.0      2      7    21     12     1      0      1     0      0      1     0   1490\n",
       "3    59   16.0       1    8.0    48   16.0      7      8    21     10     0      0      0     1      0      0     1   1720\n",
       "4    48   12.0       4    6.0    39   12.0      2      9    17     13     0      1      0     0      1      0     0   1956"
      ]
     },
     "execution_count": 5,
     "metadata": {},
     "output_type": "execute_result"
    }
   ],
   "source": [
    "# setting pandas print options\n",
    "pd.set_option('display.max_rows', 500)\n",
    "pd.set_option('display.max_columns', 500)\n",
    "pd.set_option('display.width', 1000)\n",
    "\n",
    "# specifying file name\n",
    "file = './birthweight_low.xlsx'\n",
    "\n",
    "# reading the file inot Python\n",
    "birthweight = pd.read_excel(io = file)\n",
    "\n",
    "# produce result of first 5 columns\n",
    "birthweight.head(5)"
   ]
  },
  {
   "cell_type": "markdown",
   "id": "7a0ffaf1",
   "metadata": {},
   "source": [
    "b) Obtain the shape of the data set"
   ]
  },
  {
   "cell_type": "code",
   "execution_count": 6,
   "id": "d19e829e",
   "metadata": {},
   "outputs": [
    {
     "name": "stdout",
     "output_type": "stream",
     "text": [
      "\n",
      "Size of Original Dataset\n",
      "------------------------\n",
      "Observations: 196\n",
      "Features:     18\n",
      "\n"
     ]
    }
   ],
   "source": [
    "# using .shape to view rows and columns\n",
    "birthweight.shape\n",
    "\n",
    "# printing the dimensions of the dataset\n",
    "print(f\"\"\"\n",
    "Size of Original Dataset\n",
    "------------------------\n",
    "Observations: {birthweight.shape[0]}\n",
    "Features:     {birthweight.shape[1]}\n",
    "\"\"\")"
   ]
  },
  {
   "cell_type": "markdown",
   "id": "ae648a38",
   "metadata": {},
   "source": [
    "<h3>Replace Missing Values</h3><br>\n",
    "a) Check for missing values in the data"
   ]
  },
  {
   "cell_type": "code",
   "execution_count": 7,
   "id": "f76889ca",
   "metadata": {},
   "outputs": [
    {
     "name": "stdout",
     "output_type": "stream",
     "text": [
      "mage      False\n",
      "meduc      True\n",
      "monpre    False\n",
      "npvis      True\n",
      "fage      False\n",
      "feduc      True\n",
      "omaps     False\n",
      "fmaps     False\n",
      "cigs      False\n",
      "drink     False\n",
      "male      False\n",
      "mwhte     False\n",
      "mblck     False\n",
      "moth      False\n",
      "fwhte     False\n",
      "fblck     False\n",
      "foth      False\n",
      "bwght     False\n",
      "dtype: bool\n",
      "Total number of missing values: 13\n"
     ]
    }
   ],
   "source": [
    "# using .isnull() to find columns with missing values\n",
    "print(birthweight.isnull().any())\n",
    "\n",
    "# printing total number of missing values\n",
    "print(f\"Total number of missing values: {birthweight.isnull().sum(axis = 0).sum()}\")"
   ]
  },
  {
   "cell_type": "markdown",
   "id": "e656eae7",
   "metadata": {},
   "source": [
    "b) Find the mode of rows which consists of missing values"
   ]
  },
  {
   "cell_type": "code",
   "execution_count": 8,
   "id": "0a50f6ea",
   "metadata": {},
   "outputs": [
    {
     "data": {
      "text/html": [
       "<div>\n",
       "<style scoped>\n",
       "    .dataframe tbody tr th:only-of-type {\n",
       "        vertical-align: middle;\n",
       "    }\n",
       "\n",
       "    .dataframe tbody tr th {\n",
       "        vertical-align: top;\n",
       "    }\n",
       "\n",
       "    .dataframe thead th {\n",
       "        text-align: right;\n",
       "    }\n",
       "</style>\n",
       "<table border=\"1\" class=\"dataframe\">\n",
       "  <thead>\n",
       "    <tr style=\"text-align: right;\">\n",
       "      <th></th>\n",
       "      <th>meduc</th>\n",
       "      <th>npvis</th>\n",
       "      <th>feduc</th>\n",
       "    </tr>\n",
       "  </thead>\n",
       "  <tbody>\n",
       "    <tr>\n",
       "      <th>0</th>\n",
       "      <td>12.0</td>\n",
       "      <td>12.0</td>\n",
       "      <td>12.0</td>\n",
       "    </tr>\n",
       "  </tbody>\n",
       "</table>\n",
       "</div>"
      ],
      "text/plain": [
       "   meduc  npvis  feduc\n",
       "0   12.0   12.0   12.0"
      ]
     },
     "execution_count": 8,
     "metadata": {},
     "output_type": "execute_result"
    }
   ],
   "source": [
    "# to find the mode of the columns with missing values\n",
    "birthweight_mode = birthweight[['meduc', 'npvis', 'feduc']].mode()\n",
    "birthweight_mode"
   ]
  },
  {
   "cell_type": "markdown",
   "id": "d38d3ca3",
   "metadata": {},
   "source": [
    "c) Replace the missing values with respective mode values"
   ]
  },
  {
   "cell_type": "code",
   "execution_count": 9,
   "id": "eda4a811",
   "metadata": {},
   "outputs": [],
   "source": [
    "# assigning the mode value\n",
    "bw_mode = 12.0\n",
    "\n",
    "# to fill in the missing values with mode\n",
    "birthweight['meduc'] = birthweight['meduc'].fillna(bw_mode)\n",
    "birthweight['npvis'] = birthweight['npvis'].fillna(bw_mode)\n",
    "birthweight['feduc'] = birthweight['feduc'].fillna(bw_mode)"
   ]
  },
  {
   "cell_type": "markdown",
   "id": "a5f04a6c",
   "metadata": {},
   "source": [
    "d) Re-check for missing values "
   ]
  },
  {
   "cell_type": "code",
   "execution_count": 10,
   "id": "159033ff",
   "metadata": {},
   "outputs": [
    {
     "data": {
      "text/plain": [
       "mage      False\n",
       "meduc     False\n",
       "monpre    False\n",
       "npvis     False\n",
       "fage      False\n",
       "feduc     False\n",
       "omaps     False\n",
       "fmaps     False\n",
       "cigs      False\n",
       "drink     False\n",
       "male      False\n",
       "mwhte     False\n",
       "mblck     False\n",
       "moth      False\n",
       "fwhte     False\n",
       "fblck     False\n",
       "foth      False\n",
       "bwght     False\n",
       "dtype: bool"
      ]
     },
     "execution_count": 10,
     "metadata": {},
     "output_type": "execute_result"
    }
   ],
   "source": [
    "# to check if missing values have been replaceds\n",
    "birthweight.isnull().any()"
   ]
  },
  {
   "cell_type": "markdown",
   "id": "375ef662",
   "metadata": {},
   "source": [
    "e) Categorize variables based on 'continuous' and 'countable' characteristics"
   ]
  },
  {
   "cell_type": "code",
   "execution_count": 11,
   "id": "b92ccbb7",
   "metadata": {},
   "outputs": [
    {
     "data": {
      "text/plain": [
       "'CONTINUOUS----------\\n\\nbwghtmagemeducmonprenpvisfagefeduccigsdrink\\n#INTERVAL/COUNT--------------\\n\\nmalemwhtemblckmothfwhtefblckfothomapsfmaps'"
      ]
     },
     "execution_count": 11,
     "metadata": {},
     "output_type": "execute_result"
    }
   ],
   "source": [
    "\"\"\"CONTINUOUS\\\n",
    "----------\n",
    "\n",
    "bwght\\\n",
    "mage\\\n",
    "meduc\\\n",
    "monpre\\\n",
    "npvis\\\n",
    "fage\\\n",
    "feduc\\\n",
    "cigs\\\n",
    "drink\\\n",
    "\n",
    "#INTERVAL/COUNT\\\n",
    "--------------\n",
    "\n",
    "male\\\n",
    "mwhte\\\n",
    "mblck\\\n",
    "moth\\\n",
    "fwhte\\\n",
    "fblck\\\n",
    "foth\\\n",
    "omaps\\\n",
    "fmaps\\\n",
    "\"\"\""
   ]
  },
  {
   "cell_type": "markdown",
   "id": "815a2e6c",
   "metadata": {},
   "source": [
    "<h2>Develop Regression Model</h2><br>\n",
    "<h3>Regression Model with 'continuous' variables only</h3><br>"
   ]
  },
  {
   "cell_type": "code",
   "execution_count": 12,
   "id": "e301ae84",
   "metadata": {},
   "outputs": [
    {
     "name": "stdout",
     "output_type": "stream",
     "text": [
      "                            OLS Regression Results                            \n",
      "==============================================================================\n",
      "Dep. Variable:                  bwght   R-squared:                       0.714\n",
      "Model:                            OLS   Adj. R-squared:                  0.707\n",
      "Method:                 Least Squares   F-statistic:                     95.08\n",
      "Date:                Mon, 27 Dec 2021   Prob (F-statistic):           8.42e-50\n",
      "Time:                        18:48:01   Log-Likelihood:                -1423.3\n",
      "No. Observations:                 196   AIC:                             2859.\n",
      "Df Residuals:                     190   BIC:                             2878.\n",
      "Df Model:                           5                                         \n",
      "Covariance Type:            nonrobust                                         \n",
      "==============================================================================\n",
      "                 coef    std err          t      P>|t|      [0.025      0.975]\n",
      "------------------------------------------------------------------------------\n",
      "Intercept   4226.7312    406.125     10.407      0.000    3425.638    5027.824\n",
      "fmaps         81.8890     39.864      2.054      0.041       3.257     160.521\n",
      "mage         -10.6789      3.113     -3.431      0.001     -16.819      -4.539\n",
      "cigs         -35.4384      4.413     -8.031      0.000     -44.143     -26.734\n",
      "drink       -115.2008      9.437    -12.208      0.000    -133.815     -96.587\n",
      "fage          -4.8049      3.477     -1.382      0.169     -11.663       2.053\n",
      "==============================================================================\n",
      "Omnibus:                        3.149   Durbin-Watson:                   1.290\n",
      "Prob(Omnibus):                  0.207   Jarque-Bera (JB):                3.525\n",
      "Skew:                          -0.015   Prob(JB):                        0.172\n",
      "Kurtosis:                       3.656   Cond. No.                         969.\n",
      "==============================================================================\n",
      "\n",
      "Notes:\n",
      "[1] Standard Errors assume that the covariance matrix of the errors is correctly specified.\n"
     ]
    }
   ],
   "source": [
    "# running regression with continuous varibales\n",
    "lm_best = smf.ols(formula = \"\"\"bwght ~ fmaps  + mage + cigs + drink + fage \"\"\",\n",
    "                 data = birthweight)\n",
    "\n",
    "results = lm_best.fit()\n",
    "\n",
    "print(results.summary())"
   ]
  },
  {
   "cell_type": "markdown",
   "id": "7d9d78c8",
   "metadata": {},
   "source": [
    "<h3>Scatter Plots</h3><br>\n",
    "Run scatter plots to understand the relation between the 'continuous' variables"
   ]
  },
  {
   "cell_type": "code",
   "execution_count": 13,
   "id": "752ba707",
   "metadata": {},
   "outputs": [
    {
     "data": {
      "image/png": "[encoded data removed]",
      "text/plain": [
       "<Figure size 720x576 with 4 Axes>"
      ]
     },
     "metadata": {
      "needs_background": "light"
     },
     "output_type": "display_data"
    },
    {
     "data": {
      "image/png": "[encoded data removed]",
      "text/plain": [
       "<Figure size 720x864 with 4 Axes>"
      ]
     },
     "metadata": {
      "needs_background": "light"
     },
     "output_type": "display_data"
    }
   ],
   "source": [
    "# set the size  \n",
    "fig, ax = plt.subplots(figsize = (10, 8))\n",
    "\n",
    "# \"mother's age\"\n",
    "plt.subplot(2, 2, 1)\n",
    "sns.scatterplot(x = birthweight['mage'],\n",
    "                y = birthweight['bwght'],\n",
    "                color = 'g')\n",
    "\n",
    "\n",
    "# adding labels only\n",
    "plt.xlabel(xlabel = 'mage')\n",
    "plt.ylabel(ylabel = 'bwght')\n",
    "\n",
    "################################################\n",
    "\n",
    "# \"mother's education\"\n",
    "plt.subplot(2, 2, 2)\n",
    "sns.scatterplot(x = birthweight['meduc'],\n",
    "                y = birthweight['bwght'],\n",
    "                color = 'g')\n",
    "\n",
    "\n",
    "# adding labels only\n",
    "plt.xlabel(xlabel = 'meduc')\n",
    "plt.ylabel(ylabel = 'bwght')\n",
    "\n",
    "################################################\n",
    "\n",
    "# \"month prenatal care began\"\n",
    "plt.subplot(2, 2, 3)\n",
    "sns.scatterplot(x = birthweight['monpre'],\n",
    "                y = birthweight['bwght'],\n",
    "                color = 'orange')\n",
    "\n",
    "\n",
    "# adding labels only\n",
    "plt.xlabel(xlabel = 'monpre')\n",
    "plt.ylabel(ylabel = 'bwght')\n",
    "\n",
    "################################################\n",
    "\n",
    "# \"numbers of prenatal visits\"\n",
    "plt.subplot(2, 2, 4)\n",
    "sns.scatterplot(x = birthweight['npvis'],\n",
    "                y = birthweight['bwght'],\n",
    "                color = 'r')\n",
    "\n",
    "\n",
    "# adding labels only\n",
    "plt.xlabel(xlabel = 'npvis')\n",
    "plt.ylabel(ylabel = 'bwght')\n",
    "\n",
    "\n",
    "# print\n",
    "plt.tight_layout()\n",
    "plt.show()\n",
    "\n",
    "################################################\n",
    "\n",
    "# set the size \n",
    "fig, ax = plt.subplots(figsize = (10, 12))\n",
    "\n",
    "\n",
    "# \"father's age\"\n",
    "plt.subplot(3, 2, 1)\n",
    "sns.scatterplot(x = birthweight['fage'],\n",
    "                y = birthweight['bwght'],\n",
    "                color = 'y')\n",
    "\n",
    "\n",
    "# adding labels only\n",
    "plt.xlabel(xlabel = 'fage')\n",
    "plt.ylabel(ylabel = 'bwght')\n",
    "\n",
    "################################################\n",
    "\n",
    "# \"father's education\"\n",
    "plt.subplot(3, 2, 2)\n",
    "sns.scatterplot(x = birthweight['feduc'],\n",
    "                y = birthweight['bwght'],\n",
    "                color = 'orange')\n",
    "\n",
    "\n",
    "# adding labels only\n",
    "plt.xlabel(xlabel = 'feduc')\n",
    "plt.ylabel(ylabel = 'bwght')\n",
    "\n",
    "################################################\n",
    "\n",
    "# \"average cigarettes per day\"\n",
    "plt.subplot(3, 2, 3)\n",
    "sns.scatterplot(x = birthweight['cigs'],\n",
    "                y = birthweight['bwght'],\n",
    "                color = 'r')\n",
    "\n",
    "\n",
    "# adding labels only\n",
    "plt.xlabel(xlabel = 'cigs')\n",
    "plt.ylabel(ylabel = 'bwght')\n",
    "\n",
    "################################################\n",
    "\n",
    "# \"average drinks per week\"\n",
    "plt.subplot(3, 2, 4)\n",
    "sns.scatterplot(x = birthweight['drink'],\n",
    "                y = birthweight['bwght'],\n",
    "                color = 'r')\n",
    "\n",
    "\n",
    "# adding labels only\n",
    "plt.xlabel(xlabel = 'drink')\n",
    "plt.ylabel(ylabel = 'bwght')\n",
    "\n",
    "\n",
    "# print\n",
    "plt.tight_layout()\n",
    "plt.show()"
   ]
  },
  {
   "attachments": {},
   "cell_type": "markdown",
   "id": "990f022b",
   "metadata": {},
   "source": [
    "<h3>Train- Test Split</h3><br>\n",
    "Split the data into training data set and testing data set"
   ]
  },
  {
   "cell_type": "code",
   "execution_count": 14,
   "id": "18148236",
   "metadata": {},
   "outputs": [
    {
     "name": "stdout",
     "output_type": "stream",
     "text": [
      "\n",
      "Training Data\n",
      "-------------\n",
      "X-side : (147, 17)\n",
      "y-side : (147,)\n",
      "\n",
      "Testing Data\n",
      "------------\n",
      "x-side : (49, 17)\n",
      "y-side : (49,)\n",
      "\n"
     ]
    }
   ],
   "source": [
    "# preparing explanatory variable data\n",
    "birthweight_data = birthweight.drop([\"bwght\"],\n",
    "                                   axis = 1)\n",
    "birthweight_target = birthweight.loc[: , 'bwght']\n",
    "\n",
    "# preparing training and testing sets\n",
    "x_train, x_test, y_train, y_test = train_test_split(\n",
    "            birthweight_data,\n",
    "            birthweight_target,\n",
    "            test_size = 0.25,\n",
    "            random_state = 219)\n",
    "\n",
    "# checking the shapes of the data sets\n",
    "print(f\"\"\"\n",
    "Training Data\n",
    "-------------\n",
    "X-side : {x_train.shape}\n",
    "y-side : {y_train.shape}\n",
    "\n",
    "Testing Data\n",
    "------------\n",
    "x-side : {x_test.shape}\n",
    "y-side : {y_test.shape}\n",
    "\"\"\")"
   ]
  },
  {
   "cell_type": "markdown",
   "id": "9ca339a8",
   "metadata": {},
   "source": [
    "Create the list of variables to be used for regression"
   ]
  },
  {
   "cell_type": "code",
   "execution_count": 15,
   "id": "91a354fe",
   "metadata": {},
   "outputs": [],
   "source": [
    "# creating list for running different models\n",
    "x_variables_mod = ['mage', 'cigs', 'drink', 'fage']"
   ]
  },
  {
   "cell_type": "markdown",
   "id": "e242d613",
   "metadata": {},
   "source": [
    "<h3>OLS Model</h3>\n",
    "Train- test split for OLS model"
   ]
  },
  {
   "cell_type": "code",
   "execution_count": 16,
   "id": "9e75d589",
   "metadata": {},
   "outputs": [],
   "source": [
    "# applying modeline scikit- learn \n",
    "\n",
    "# preparing x-varibales from the OLS model\n",
    "ols_data = birthweight.loc[:, x_variables_mod]\n",
    "\n",
    "# preparing response variable\n",
    "ols_target = birthweight.loc[:, 'bwght']\n",
    "\n",
    "# setting more than one train- test split\n",
    "\n",
    "# full x-dataset \n",
    "x_train_Full, x_test_Full, y_train_Full, y_test_Full = train_test_split(\n",
    "              birthweight_data,\n",
    "              birthweight_target,\n",
    "              test_size = 0.25,\n",
    "              random_state = 219)\n",
    "\n",
    "# OLS value dataset\n",
    "x_train_ols, x_test_ols, y_train_ols, y_test_ols = train_test_split(\n",
    "              ols_data,\n",
    "              ols_target,\n",
    "              test_size = 0.25,\n",
    "              random_state = 219)\n"
   ]
  },
  {
   "cell_type": "code",
   "execution_count": 23,
   "id": "65e46887",
   "metadata": {},
   "outputs": [
    {
     "name": "stdout",
     "output_type": "stream",
     "text": [
      "                            OLS Regression Results                            \n",
      "==============================================================================\n",
      "Dep. Variable:                  bwght   R-squared:                       0.714\n",
      "Model:                            OLS   Adj. R-squared:                  0.706\n",
      "Method:                 Least Squares   F-statistic:                     88.84\n",
      "Date:                Mon, 27 Dec 2021   Prob (F-statistic):           1.15e-37\n",
      "Time:                        18:54:13   Log-Likelihood:                -1072.5\n",
      "No. Observations:                 147   AIC:                             2155.\n",
      "Df Residuals:                     142   BIC:                             2170.\n",
      "Df Model:                           4                                         \n",
      "Covariance Type:            nonrobust                                         \n",
      "==============================================================================\n",
      "                 coef    std err          t      P>|t|      [0.025      0.975]\n",
      "------------------------------------------------------------------------------\n",
      "Intercept   5149.6763    144.065     35.745      0.000    4864.887    5434.466\n",
      "mage         -15.8654      3.614     -4.391      0.000     -23.009      -8.722\n",
      "cigs         -37.4935      5.154     -7.275      0.000     -47.682     -27.305\n",
      "drink       -108.7073     11.255     -9.659      0.000    -130.956     -86.458\n",
      "fage          -4.1032      4.123     -0.995      0.321     -12.254       4.047\n",
      "==============================================================================\n",
      "Omnibus:                        4.449   Durbin-Watson:                   1.904\n",
      "Prob(Omnibus):                  0.108   Jarque-Bera (JB):                5.888\n",
      "Skew:                          -0.032   Prob(JB):                       0.0527\n",
      "Kurtosis:                       3.978   Cond. No.                         285.\n",
      "==============================================================================\n",
      "\n",
      "Notes:\n",
      "[1] Standard Errors assume that the covariance matrix of the errors is correctly specified.\n"
     ]
    }
   ],
   "source": [
    "# merging x_train and y_train so that they can be used in statsmodel\n",
    "birthweight_train = pd.concat([x_train, y_train], axis = 1)\n",
    "\n",
    "lm_best = smf.ols(formula = \"\"\" bwght ~  mage + cigs + drink + fage  \"\"\",\n",
    "                 data = birthweight_train)\n",
    "\n",
    "# fit the data into the model object\n",
    "results = lm_best.fit()\n",
    "\n",
    "# print the summary of results\n",
    "print(results.summary())"
   ]
  },
  {
   "cell_type": "code",
   "execution_count": 24,
   "id": "ce705c89",
   "metadata": {},
   "outputs": [
    {
     "name": "stdout",
     "output_type": "stream",
     "text": [
      "OLS Training Score : 0.7145\n",
      "OLS Testing Score : 0.654\n",
      "OLS Train_Test Gap: 0.0605\n"
     ]
    }
   ],
   "source": [
    "# instantiating a model object\n",
    "lr = LinearRegression()\n",
    "\n",
    "# fitting to the training data\n",
    "lr_fit = lr.fit(x_train_ols, y_train_ols)\n",
    "\n",
    "#predicting on new data\n",
    "lr_pred = lr_fit.predict(x_test_ols)\n",
    "\n",
    "# scoring the results\n",
    "print('OLS Training Score :', lr.score(x_train_ols, y_train_ols).round(4))\n",
    "print('OLS Testing Score :', lr.score(x_test_ols, y_test_ols).round(4))\n",
    "\n",
    "# scorinf the results\n",
    "lr_train_score = lr.score(x_train_ols, y_train_ols).round(4)\n",
    "lr_test_score = lr.score(x_test_ols, y_test_ols).round(4)\n",
    "\n",
    "# displaying and saving the gap between training and testing score\n",
    "print('OLS Train_Test Gap:', abs(lr_train_score -lr_test_score).round(4))\n",
    "lr_test_gap = abs(lr_train_score - lr_test_score).round(4)"
   ]
  },
  {
   "cell_type": "code",
   "execution_count": 20,
   "id": "c525dab8",
   "metadata": {},
   "outputs": [
    {
     "name": "stdout",
     "output_type": "stream",
     "text": [
      "('intercept', 5149.68)\n",
      "('mage', -15.87)\n",
      "('cigs', -37.49)\n",
      "('drink', -108.71)\n",
      "('fage', -4.1)\n"
     ]
    }
   ],
   "source": [
    "# zipping each feature name to its coefficient\n",
    "lr_model_values = zip(birthweight_data[x_variables_mod].columns,\n",
    "                     lr_fit.coef_.round(2))\n",
    "\n",
    "# setting up a placeholder list to store model features\n",
    "lr_model_lst = [('intercept', lr_fit.intercept_.round(2))]\n",
    "\n",
    "# printing out each feature_coefficient pair one by one\n",
    "for val in lr_model_values:\n",
    "    lr_model_lst.append(val)\n",
    "    \n",
    "# printing the results\n",
    "for pair in lr_model_lst:\n",
    "    print(pair)"
   ]
  },
  {
   "cell_type": "markdown",
   "id": "525e64e4",
   "metadata": {},
   "source": [
    "<h3>Lasso Model</h3>"
   ]
  },
  {
   "cell_type": "code",
   "execution_count": 25,
   "id": "11c06247",
   "metadata": {},
   "outputs": [
    {
     "name": "stdout",
     "output_type": "stream",
     "text": [
      "Lasso Training Score : 0.7138\n",
      "Lasso Testing Score : 0.6597\n",
      "Lasso Train_Test Gap: 0.0541\n"
     ]
    }
   ],
   "source": [
    "# instantiating a lasso model\n",
    "lasso_model = sklearn.linear_model.Lasso(alpha = 1.0,\n",
    "                                         normalize =True)\n",
    "\n",
    "# fitting the training model\n",
    "lasso_fit = lasso_model.fit(x_train_ols, y_train_ols)\n",
    "\n",
    "# predicting on new data\n",
    "lasso_pred = lasso_fit.predict(x_test_ols)\n",
    "\n",
    "# scoring the results\n",
    "print('Lasso Training Score :', lasso_model.score(x_train_ols, y_train_ols).round(4))\n",
    "print('Lasso Testing Score :', lasso_model.score(x_test_ols, y_test_ols).round(4))\n",
    "\n",
    "\n",
    "lasso_train_score = lasso_model.score(x_train_ols, y_train_ols).round(4)\n",
    "lasso_test_score = lasso_model.score(x_test_ols, y_test_ols).round(4)\n",
    "\n",
    "# displaying and saving the gap between training and testing score\n",
    "print('Lasso Train_Test Gap:', abs(lasso_train_score - lasso_test_score).round(4))\n",
    "lasso_test_gap = abs(lasso_train_score - lasso_test_score).round(4)\n"
   ]
  },
  {
   "cell_type": "code",
   "execution_count": 26,
   "id": "6c4a2c35",
   "metadata": {},
   "outputs": [
    {
     "name": "stdout",
     "output_type": "stream",
     "text": [
      "('intercept', 5079.79)\n",
      "('mage', -15.34)\n",
      "('meduc', -36.25)\n",
      "('monpre', -106.8)\n",
      "('npvis', -3.48)\n"
     ]
    }
   ],
   "source": [
    "# zipping each feature name to its coefficient\n",
    "lasso_model_values = zip(birthweight.columns,\n",
    "                     lasso_fit.coef_.round(2))\n",
    "\n",
    "# setting up a placeholder list to store model features\n",
    "lasso_model_lst = [('intercept', lasso_fit.intercept_.round(2))]\n",
    "\n",
    "# printing out each feature_coefficient pair one by one\n",
    "for val in lasso_model_values:\n",
    "    lasso_model_lst.append(val)\n",
    "    \n",
    "# printing the results\n",
    "for pair in lasso_model_lst:\n",
    "    print(pair)"
   ]
  },
  {
   "cell_type": "markdown",
   "id": "ec1b88fa",
   "metadata": {},
   "source": [
    "<h3>ARD Model</h3>"
   ]
  },
  {
   "cell_type": "code",
   "execution_count": 28,
   "id": "4ed5a659",
   "metadata": {},
   "outputs": [
    {
     "name": "stdout",
     "output_type": "stream",
     "text": [
      "ARD Training Score : 0.7133\n",
      "ARD Testing Score : 0.6512\n",
      "ARD Train_Test Gap: 0.0621\n"
     ]
    }
   ],
   "source": [
    "# instantiating a ARD model\n",
    "ard_model = sklearn.linear_model.ARDRegression()\n",
    "\n",
    "# fitting the training model\n",
    "ard_fit = ard_model.fit(x_train_ols, y_train_ols)\n",
    "\n",
    "# predicting on new data\n",
    "ard_pred = ard_fit.predict(x_test_ols)\n",
    "\n",
    "# scoring the results\n",
    "print('ARD Training Score :', ard_model.score(x_train_ols, y_train_ols).round(4))\n",
    "print('ARD Testing Score :', ard_model.score(x_test_ols, y_test_ols).round(4))\n",
    "\n",
    "# scorinf the results\n",
    "ard_train_score = ard_model.score(x_train_ols, y_train_ols).round(4)\n",
    "ard_test_score = ard_model.score(x_test_ols, y_test_ols).round(4)\n",
    "\n",
    "# displaying and saving the gap between training and testing score\n",
    "print('ARD Train_Test Gap:', abs(ard_train_score - ard_test_score).round(4))\n",
    "ard_test_gap = abs(ard_train_score - ard_test_score).round(4)"
   ]
  },
  {
   "cell_type": "code",
   "execution_count": 29,
   "id": "6c02911d",
   "metadata": {},
   "outputs": [
    {
     "name": "stdout",
     "output_type": "stream",
     "text": [
      "('intercept', 5072.57)\n",
      "('mage', -16.94)\n",
      "('meduc', -37.49)\n",
      "('monpre', -109.09)\n",
      "('npvis', -0.99)\n"
     ]
    }
   ],
   "source": [
    "# zipping each feature name to its coefficient\n",
    "ard_model_values = zip(birthweight.columns,\n",
    "                     ard_fit.coef_.round(2))\n",
    "\n",
    "# setting up a placeholder list to store model features\n",
    "ard_model_lst = [('intercept', ard_fit.intercept_.round(2))]\n",
    "\n",
    "# printing out each feature_coefficient pair one by one\n",
    "for val in ard_model_values:\n",
    "    ard_model_lst.append(val)\n",
    "    \n",
    "# printing the results\n",
    "for pair in ard_model_lst:\n",
    "    print(pair)"
   ]
  },
  {
   "cell_type": "code",
   "execution_count": 30,
   "id": "30593327",
   "metadata": {},
   "outputs": [
    {
     "name": "stdout",
     "output_type": "stream",
     "text": [
      "('intercept', 5072.57)\n",
      "('mage', -16.94)\n",
      "('meduc', -37.49)\n",
      "('monpre', -109.09)\n",
      "('npvis', -0.99)\n"
     ]
    }
   ],
   "source": [
    "# dropping co-efficients equal to 0\n",
    "# printing out each feature-coefficient oair one by one\n",
    "for feature, coefficient in ard_model_lst:\n",
    "    if coefficient == 0:\n",
    "        ard_model_lst.remove((feature, coefficient))\n",
    "\n",
    "# printing results\n",
    "for pair in ard_model_lst:\n",
    "    print(pair)"
   ]
  },
  {
   "cell_type": "markdown",
   "id": "93514aa4",
   "metadata": {},
   "source": [
    "Converting into DataFrame"
   ]
  },
  {
   "cell_type": "code",
   "execution_count": 31,
   "id": "c0a972a1",
   "metadata": {},
   "outputs": [
    {
     "data": {
      "text/html": [
       "<div>\n",
       "<style scoped>\n",
       "    .dataframe tbody tr th:only-of-type {\n",
       "        vertical-align: middle;\n",
       "    }\n",
       "\n",
       "    .dataframe tbody tr th {\n",
       "        vertical-align: top;\n",
       "    }\n",
       "\n",
       "    .dataframe thead th {\n",
       "        text-align: right;\n",
       "    }\n",
       "</style>\n",
       "<table border=\"1\" class=\"dataframe\">\n",
       "  <thead>\n",
       "    <tr style=\"text-align: right;\">\n",
       "      <th></th>\n",
       "      <th>0</th>\n",
       "      <th>1</th>\n",
       "      <th>2</th>\n",
       "      <th>3</th>\n",
       "      <th>4</th>\n",
       "      <th>5</th>\n",
       "      <th>6</th>\n",
       "      <th>7</th>\n",
       "      <th>8</th>\n",
       "      <th>9</th>\n",
       "      <th>10</th>\n",
       "      <th>11</th>\n",
       "      <th>12</th>\n",
       "      <th>13</th>\n",
       "      <th>14</th>\n",
       "      <th>15</th>\n",
       "      <th>16</th>\n",
       "    </tr>\n",
       "  </thead>\n",
       "  <tbody>\n",
       "    <tr>\n",
       "      <th>count</th>\n",
       "      <td>196.00</td>\n",
       "      <td>196.00</td>\n",
       "      <td>196.00</td>\n",
       "      <td>196.00</td>\n",
       "      <td>196.00</td>\n",
       "      <td>196.00</td>\n",
       "      <td>196.00</td>\n",
       "      <td>196.00</td>\n",
       "      <td>196.00</td>\n",
       "      <td>196.00</td>\n",
       "      <td>196.00</td>\n",
       "      <td>196.00</td>\n",
       "      <td>196.00</td>\n",
       "      <td>196.00</td>\n",
       "      <td>196.00</td>\n",
       "      <td>196.00</td>\n",
       "      <td>196.00</td>\n",
       "    </tr>\n",
       "    <tr>\n",
       "      <th>mean</th>\n",
       "      <td>-0.00</td>\n",
       "      <td>-0.00</td>\n",
       "      <td>-0.00</td>\n",
       "      <td>-0.00</td>\n",
       "      <td>0.00</td>\n",
       "      <td>0.00</td>\n",
       "      <td>-0.00</td>\n",
       "      <td>0.00</td>\n",
       "      <td>-0.00</td>\n",
       "      <td>-0.00</td>\n",
       "      <td>0.00</td>\n",
       "      <td>-0.00</td>\n",
       "      <td>-0.00</td>\n",
       "      <td>0.00</td>\n",
       "      <td>0.00</td>\n",
       "      <td>0.00</td>\n",
       "      <td>-0.00</td>\n",
       "    </tr>\n",
       "    <tr>\n",
       "      <th>std</th>\n",
       "      <td>1.00</td>\n",
       "      <td>1.00</td>\n",
       "      <td>1.00</td>\n",
       "      <td>1.00</td>\n",
       "      <td>1.00</td>\n",
       "      <td>1.00</td>\n",
       "      <td>1.00</td>\n",
       "      <td>1.00</td>\n",
       "      <td>1.00</td>\n",
       "      <td>1.00</td>\n",
       "      <td>1.00</td>\n",
       "      <td>1.00</td>\n",
       "      <td>1.00</td>\n",
       "      <td>1.00</td>\n",
       "      <td>1.00</td>\n",
       "      <td>1.00</td>\n",
       "      <td>1.00</td>\n",
       "    </tr>\n",
       "    <tr>\n",
       "      <th>min</th>\n",
       "      <td>-1.68</td>\n",
       "      <td>-2.87</td>\n",
       "      <td>-0.99</td>\n",
       "      <td>-2.27</td>\n",
       "      <td>-1.82</td>\n",
       "      <td>-4.91</td>\n",
       "      <td>-3.94</td>\n",
       "      <td>-6.10</td>\n",
       "      <td>-1.80</td>\n",
       "      <td>-1.80</td>\n",
       "      <td>-1.11</td>\n",
       "      <td>-0.61</td>\n",
       "      <td>-0.79</td>\n",
       "      <td>-0.73</td>\n",
       "      <td>-0.73</td>\n",
       "      <td>-0.72</td>\n",
       "      <td>-0.67</td>\n",
       "    </tr>\n",
       "    <tr>\n",
       "      <th>25%</th>\n",
       "      <td>-0.70</td>\n",
       "      <td>-0.92</td>\n",
       "      <td>-0.25</td>\n",
       "      <td>-0.38</td>\n",
       "      <td>-0.51</td>\n",
       "      <td>-0.68</td>\n",
       "      <td>-0.12</td>\n",
       "      <td>0.05</td>\n",
       "      <td>-0.81</td>\n",
       "      <td>-0.47</td>\n",
       "      <td>-1.11</td>\n",
       "      <td>-0.61</td>\n",
       "      <td>-0.79</td>\n",
       "      <td>-0.73</td>\n",
       "      <td>-0.73</td>\n",
       "      <td>-0.72</td>\n",
       "      <td>-0.67</td>\n",
       "    </tr>\n",
       "    <tr>\n",
       "      <th>50%</th>\n",
       "      <td>-0.11</td>\n",
       "      <td>0.06</td>\n",
       "      <td>-0.25</td>\n",
       "      <td>0.09</td>\n",
       "      <td>-0.14</td>\n",
       "      <td>0.08</td>\n",
       "      <td>0.51</td>\n",
       "      <td>0.05</td>\n",
       "      <td>0.01</td>\n",
       "      <td>-0.13</td>\n",
       "      <td>0.90</td>\n",
       "      <td>-0.61</td>\n",
       "      <td>-0.79</td>\n",
       "      <td>-0.73</td>\n",
       "      <td>-0.73</td>\n",
       "      <td>-0.72</td>\n",
       "      <td>-0.67</td>\n",
       "    </tr>\n",
       "    <tr>\n",
       "      <th>75%</th>\n",
       "      <td>0.57</td>\n",
       "      <td>1.03</td>\n",
       "      <td>0.49</td>\n",
       "      <td>0.09</td>\n",
       "      <td>0.41</td>\n",
       "      <td>0.85</td>\n",
       "      <td>0.51</td>\n",
       "      <td>0.05</td>\n",
       "      <td>0.71</td>\n",
       "      <td>0.62</td>\n",
       "      <td>0.90</td>\n",
       "      <td>1.64</td>\n",
       "      <td>1.27</td>\n",
       "      <td>1.37</td>\n",
       "      <td>1.37</td>\n",
       "      <td>1.39</td>\n",
       "      <td>1.49</td>\n",
       "    </tr>\n",
       "    <tr>\n",
       "      <th>max</th>\n",
       "      <td>3.02</td>\n",
       "      <td>1.52</td>\n",
       "      <td>4.19</td>\n",
       "      <td>5.54</td>\n",
       "      <td>3.76</td>\n",
       "      <td>1.24</td>\n",
       "      <td>1.15</td>\n",
       "      <td>1.59</td>\n",
       "      <td>2.31</td>\n",
       "      <td>2.87</td>\n",
       "      <td>0.90</td>\n",
       "      <td>1.64</td>\n",
       "      <td>1.27</td>\n",
       "      <td>1.37</td>\n",
       "      <td>1.37</td>\n",
       "      <td>1.39</td>\n",
       "      <td>1.49</td>\n",
       "    </tr>\n",
       "  </tbody>\n",
       "</table>\n",
       "</div>"
      ],
      "text/plain": [
       "           0       1       2       3       4       5       6       7       8       9       10      11      12      13      14      15      16\n",
       "count  196.00  196.00  196.00  196.00  196.00  196.00  196.00  196.00  196.00  196.00  196.00  196.00  196.00  196.00  196.00  196.00  196.00\n",
       "mean    -0.00   -0.00   -0.00   -0.00    0.00    0.00   -0.00    0.00   -0.00   -0.00    0.00   -0.00   -0.00    0.00    0.00    0.00   -0.00\n",
       "std      1.00    1.00    1.00    1.00    1.00    1.00    1.00    1.00    1.00    1.00    1.00    1.00    1.00    1.00    1.00    1.00    1.00\n",
       "min     -1.68   -2.87   -0.99   -2.27   -1.82   -4.91   -3.94   -6.10   -1.80   -1.80   -1.11   -0.61   -0.79   -0.73   -0.73   -0.72   -0.67\n",
       "25%     -0.70   -0.92   -0.25   -0.38   -0.51   -0.68   -0.12    0.05   -0.81   -0.47   -1.11   -0.61   -0.79   -0.73   -0.73   -0.72   -0.67\n",
       "50%     -0.11    0.06   -0.25    0.09   -0.14    0.08    0.51    0.05    0.01   -0.13    0.90   -0.61   -0.79   -0.73   -0.73   -0.72   -0.67\n",
       "75%      0.57    1.03    0.49    0.09    0.41    0.85    0.51    0.05    0.71    0.62    0.90    1.64    1.27    1.37    1.37    1.39    1.49\n",
       "max      3.02    1.52    4.19    5.54    3.76    1.24    1.15    1.59    2.31    2.87    0.90    1.64    1.27    1.37    1.37    1.39    1.49"
      ]
     },
     "execution_count": 31,
     "metadata": {},
     "output_type": "execute_result"
    }
   ],
   "source": [
    "# instantiating a standard scaler object\n",
    "scaler = StandardScaler()\n",
    "\n",
    "# fitting the scalar with birthweight data\n",
    "scaler.fit(birthweight_data)\n",
    "\n",
    "# transforming our data after fit\n",
    "x_scaled = scaler.transform(birthweight_data)\n",
    "\n",
    "# converting scaled data into a Data Frame\n",
    "x_scaled_df = pd.DataFrame(x_scaled)\n",
    "\n",
    "# printing the results\n",
    "x_scaled_df.describe().round(2)"
   ]
  },
  {
   "cell_type": "code",
   "execution_count": 32,
   "id": "0889c3fa",
   "metadata": {},
   "outputs": [
    {
     "name": "stdout",
     "output_type": "stream",
     "text": [
      "\n",
      "Dataset Before Scaling\n",
      "----------------------\n",
      "mage      104.527593\n",
      "meduc       4.195413\n",
      "monpre      1.827025\n",
      "npvis      17.840561\n",
      "fage       80.277671\n",
      "feduc       6.773298\n",
      "omaps       2.472616\n",
      "fmaps       0.422194\n",
      "cigs       37.035714\n",
      "drink       8.964077\n",
      "male        0.247397\n",
      "mwhte       0.197288\n",
      "mblck       0.236230\n",
      "moth        0.226572\n",
      "fwhte       0.226572\n",
      "fblck       0.224984\n",
      "foth        0.214364\n",
      "dtype: float64\n",
      "\n",
      "Dataset After Scaling\n",
      "---------------------\n",
      "mage      1.0\n",
      "meduc     1.0\n",
      "monpre    1.0\n",
      "npvis     1.0\n",
      "fage      1.0\n",
      "feduc     1.0\n",
      "omaps     1.0\n",
      "fmaps     1.0\n",
      "cigs      1.0\n",
      "drink     1.0\n",
      "male      1.0\n",
      "mwhte     1.0\n",
      "mblck     1.0\n",
      "moth      1.0\n",
      "fwhte     1.0\n",
      "fblck     1.0\n",
      "foth      1.0\n",
      "dtype: float64\n",
      "\n"
     ]
    }
   ],
   "source": [
    "# adding labels to the scaled DataFrames\n",
    "x_scaled_df.columns = birthweight_data.columns\n",
    "\n",
    "# checking pre and posr scaling of the data\n",
    "print(f\"\"\"\n",
    "Dataset Before Scaling\n",
    "----------------------\n",
    "{np.var(birthweight_data)}\n",
    "\n",
    "Dataset After Scaling\n",
    "---------------------\n",
    "{np.var(x_scaled_df)}\n",
    "\"\"\")"
   ]
  },
  {
   "cell_type": "markdown",
   "id": "35230933",
   "metadata": {},
   "source": [
    "<h3>KNN Model</h3>\n",
    "Split the data for training and testing"
   ]
  },
  {
   "cell_type": "code",
   "execution_count": 33,
   "id": "27937735",
   "metadata": {},
   "outputs": [],
   "source": [
    "\n",
    "x_train, x_test, y_train, y_test = train_test_split(\n",
    "                 birthweight_data,\n",
    "                 birthweight_target,\n",
    "                 test_size    = 0.25,\n",
    "                 random_state = 219)"
   ]
  },
  {
   "cell_type": "code",
   "execution_count": 34,
   "id": "e888843b",
   "metadata": {},
   "outputs": [
    {
     "name": "stdout",
     "output_type": "stream",
     "text": [
      "KNN Training Score : 1.0\n",
      "KNN Testing Score : 0.3562\n",
      "KNN Train_Test Gap: 0.6438\n"
     ]
    }
   ],
   "source": [
    "# instantiating a KNN model\n",
    "knn_reg =KNeighborsRegressor(algorithm = 'auto',\n",
    "                            n_neighbors = 1)\n",
    "\n",
    "# fitting to the training data\n",
    "knn_fit = knn_reg.fit(x_train, y_train)\n",
    "\n",
    "# predicting on new data\n",
    "knn_reg_pred = knn_fit.predict(x_test)\n",
    "\n",
    "# scoring the results\n",
    "print('KNN Training Score :', knn_reg.score(x_train, y_train).round(4))\n",
    "print('KNN Testing Score :', knn_reg.score(x_test, y_test).round(4))\n",
    "\n",
    "# scorinf the results\n",
    "knn_train_score = knn_reg.score(x_train, y_train).round(4)\n",
    "knn_test_score =  knn_reg.score(x_test, y_test).round(4)\n",
    "\n",
    "# displaying and saving the gap between training and testing score\n",
    "print('KNN Train_Test Gap:', abs(knn_train_score - knn_test_score).round(4))\n",
    "knn_test_gap = abs(knn_train_score - knn_test_score).round(4)"
   ]
  },
  {
   "cell_type": "code",
   "execution_count": 35,
   "id": "d5a69c46",
   "metadata": {},
   "outputs": [
    {
     "name": "stdout",
     "output_type": "stream",
     "text": [
      "\n",
      "Model            Train Score    Test Score     Train-Test Gap\n",
      "-----            -----------    ----------     --------------\n",
      "ARD              0.7133          0.6512            0.0621\n",
      "Lasso*           0.7138         0.6597            0.0541\n",
      "OLS              0.7145         0.654            0.0605\n",
      "\n"
     ]
    },
    {
     "data": {
      "text/plain": [
       "' * Lasso is the final model used  '"
      ]
     },
     "execution_count": 35,
     "metadata": {},
     "output_type": "execute_result"
    }
   ],
   "source": [
    "# result table\n",
    "print(f\"\"\"\n",
    "Model            Train Score    Test Score     Train-Test Gap\n",
    "-----            -----------    ----------     --------------\n",
    "ARD              {ard_train_score}          {ard_test_score}            {ard_test_gap}\n",
    "Lasso*           {lasso_train_score}         {lasso_test_score}            {lasso_test_gap}\n",
    "OLS              {lr_train_score}         {lr_test_score}            {lr_test_gap}\n",
    "\"\"\")\n",
    "\"\"\" * Lasso is the final model used  \"\"\""
   ]
  }
 ],
 "metadata": {
  "kernelspec": {
   "display_name": "Python 3 (ipykernel)",
   "language": "python",
   "name": "python3"
  },
  "language_info": {
   "codemirror_mode": {
    "name": "ipython",
    "version": 3
   },
   "file_extension": ".py",
   "mimetype": "text/x-python",
   "name": "python",
   "nbconvert_exporter": "python",
   "pygments_lexer": "ipython3",
   "version": "3.8.8"
  },
  "toc": {
   "base_numbering": 1,
   "nav_menu": {},
   "number_sections": true,
   "sideBar": true,
   "skip_h1_title": false,
   "title_cell": "Table of Contents",
   "title_sidebar": "Contents",
   "toc_cell": false,
   "toc_position": {},
   "toc_section_display": true,
   "toc_window_display": false
  },
  "varInspector": {
   "cols": {
    "lenName": 16,
    "lenType": 16,
    "lenVar": 40
   },
   "kernels_config": {
    "python": {
     "delete_cmd_postfix": "",
     "delete_cmd_prefix": "del ",
     "library": "var_list.py",
     "varRefreshCmd": "print(var_dic_list())"
    },
    "r": {
     "delete_cmd_postfix": ") ",
     "delete_cmd_prefix": "rm(",
     "library": "var_list.r",
     "varRefreshCmd": "cat(var_dic_list()) "
    }
   },
   "types_to_exclude": [
    "module",
    "function",
    "builtin_function_or_method",
    "instance",
    "_Feature"
   ],
   "window_display": false
  }
 },
 "nbformat": 4,
 "nbformat_minor": 5
}
